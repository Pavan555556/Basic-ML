{
  "nbformat": 4,
  "nbformat_minor": 0,
  "metadata": {
    "colab": {
      "name": "Copy of Copy of Untitled1.ipynb",
      "provenance": [],
      "collapsed_sections": [],
      "authorship_tag": "ABX9TyMMPbwUQiLfGKjxJiUQjwSL",
      "include_colab_link": true
    },
    "kernelspec": {
      "name": "python3",
      "display_name": "Python 3"
    },
    "language_info": {
      "name": "python"
    }
  },
  "cells": [
    {
      "cell_type": "markdown",
      "metadata": {
        "id": "view-in-github",
        "colab_type": "text"
      },
      "source": [
        "<a href=\"https://colab.research.google.com/github/Pavan555556/Basic-ML/blob/main/Copy_of_Copy_of_Untitled1.ipynb\" target=\"_parent\"><img src=\"https://colab.research.google.com/assets/colab-badge.svg\" alt=\"Open In Colab\"/></a>"
      ]
    },
    {
      "cell_type": "markdown",
      "metadata": {
        "id": "kPFeq2aKE_ap"
      },
      "source": [
        "Write a program to compute sin x for given x. The user should supply x and a positive integer n.\n",
        "We compute the sine of x using the series and the computation should use all terms in the series up through the term involving xn\n",
        "sin x = x - x3/3! + x5/5! - x7/7! + x9/9! ........"
      ]
    },
    {
      "cell_type": "code",
      "metadata": {
        "id": "LXBGYCSDFEr8",
        "colab": {
          "base_uri": "https://localhost:8080/"
        },
        "outputId": "c20b056f-e36e-47f9-bac5-bc90609f3db6"
      },
      "source": [
        "x = int(input(\"Enter the value of x: \"))\n",
        "n = int(input(\"Enter the value of n: \"))\n",
        "sign = -1\n",
        "fact = i =1\n",
        "sum = 0\n",
        "while i<=n:\n",
        "    p = 1\n",
        "    fact = 1\n",
        "    for j in range(1,i+1):\n",
        "        p = p*x\n",
        "        fact = fact*j\n",
        "    sign = -1*sign\n",
        "    sum = sum + sign* p/fact\n",
        "    i = i+2\n",
        "print(\"sin(\",x,\") =\",sum)"
      ],
      "execution_count": null,
      "outputs": [
        {
          "output_type": "stream",
          "text": [
            "Enter the value of x: 3\n",
            "Enter the value of n: 4\n",
            "sin( 3 ) = -1.5\n"
          ],
          "name": "stdout"
        }
      ]
    },
    {
      "cell_type": "markdown",
      "metadata": {
        "id": "XD2sWJNCNG6v"
      },
      "source": [
        " Write a program to compute cosine of x. The user should supply x and a positive integer n. We compute the cosine of x using the series and the computation should use all terms in the series up through the term involving xn cos x = 1 - x2/2! + x4/4! - x6/6! ....."
      ]
    },
    {
      "cell_type": "code",
      "metadata": {
        "colab": {
          "base_uri": "https://localhost:8080/"
        },
        "id": "HP-Jg9cYNKNn",
        "outputId": "80c73410-967e-45c4-e4f6-0af6d4552d6e"
      },
      "source": [
        "x = int(input(\"Enter the value of x: \"))\n",
        "n = int(input(\"Enter the value of n: \"))\n",
        "sign=-1\n",
        "fact=1\n",
        "i=2\n",
        "sum=0\n",
        "while i<=n:\n",
        "    p=1\n",
        "    fact=1\n",
        "    for j in range(1,i+1):\n",
        "        p = p*x\n",
        "        fact = fact*j\n",
        "    sum= sum + sign* p/fact\n",
        "    sign = -1*sign\n",
        "    i = i+2\n",
        "print(\"cos(\",x,\") =\",1+sum)"
      ],
      "execution_count": null,
      "outputs": [
        {
          "output_type": "stream",
          "text": [
            "Enter the value of x: 5\n",
            "Enter the value of n: 6\n",
            "cos( 5 ) = -7.159722222222221\n"
          ],
          "name": "stdout"
        }
      ]
    },
    {
      "cell_type": "markdown",
      "metadata": {
        "id": "zMzAPB8zNTOX"
      },
      "source": [
        "GCD of two numbers"
      ]
    },
    {
      "cell_type": "code",
      "metadata": {
        "colab": {
          "base_uri": "https://localhost:8080/"
        },
        "id": "kF82NBVCNV-R",
        "outputId": "800c6469-a575-4520-af17-3875d0e1d090"
      },
      "source": [
        " \n",
        " \n",
        "x = int(input(\"Enter a number:\")) \n",
        "y = int(input(\"Enter a number:\")) \n",
        "if (x>y): \n",
        "    small = y \n",
        "else: \n",
        "    small = x \n",
        "for i in range(1,small+1): \n",
        "    if (x%i==0 and y%i==0): \n",
        "        gcd = i \n",
        "print(\"GCD is :\",gcd)"
      ],
      "execution_count": null,
      "outputs": [
        {
          "output_type": "stream",
          "text": [
            "Enter a number:3\n",
            "Enter a number:6\n",
            "GCD is : 3\n"
          ],
          "name": "stdout"
        }
      ]
    },
    {
      "cell_type": "markdown",
      "metadata": {
        "id": "qcTyEAEIF4yl"
      },
      "source": [
        ""
      ]
    }
  ]
}